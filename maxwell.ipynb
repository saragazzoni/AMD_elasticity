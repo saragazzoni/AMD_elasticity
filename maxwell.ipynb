{
 "cells": [
  {
   "cell_type": "code",
   "execution_count": 1,
   "metadata": {},
   "outputs": [],
   "source": [
    "from fenics import *\n",
    "import matplotlib.pyplot as plt\n",
    "import numpy as np"
   ]
  },
  {
   "cell_type": "markdown",
   "metadata": {},
   "source": [
    "## Pre-stress for initial conditions"
   ]
  },
  {
   "cell_type": "code",
   "execution_count": 2,
   "metadata": {},
   "outputs": [
    {
     "data": {
      "text/plain": [
       "[<matplotlib.lines.Line2D at 0x7fac7186ca10>,\n",
       " <matplotlib.lines.Line2D at 0x7fac71736950>]"
      ]
     },
     "execution_count": 2,
     "metadata": {},
     "output_type": "execute_result"
    },
    {
     "data": {
      "image/png": "[encoded data removed]",
      "text/plain": [
       "<Figure size 640x480 with 1 Axes>"
      ]
     },
     "metadata": {},
     "output_type": "display_data"
    }
   ],
   "source": [
    "filename = \"mesh/meshCircle\"\n",
    "mesh = Mesh(filename + \".xml\")\n",
    "bounds = MeshFunction(\"size_t\", mesh, filename + \"_facet_region.xml\")\n",
    "face = MeshFunction(\"size_t\", mesh, filename + \"_physical_region.xml\")\n",
    "plot(mesh)"
   ]
  },
  {
   "cell_type": "code",
   "execution_count": 3,
   "metadata": {},
   "outputs": [
    {
     "name": "stdout",
     "output_type": "stream",
     "text": [
      "Solving linear variational problem.\n"
     ]
    }
   ],
   "source": [
    "# Scaled variables\n",
    "E = 1e5\n",
    "nu = 0.3\n",
    "mu = E / (2 * (1 + nu))\n",
    "lambda_ = E * nu / ((1 + nu) * (1 - 2 * nu))\n",
    "\n",
    "# Create mesh and define function space\n",
    "V = VectorFunctionSpace(mesh, 'P', 1)\n",
    "\n",
    "# Define boundary condition\n",
    "tol = 1E-14\n",
    "\n",
    "def clamped_boundary(x, on_boundary):\n",
    "    return on_boundary and x[0] < tol\n",
    "g = Expression((\"x[0]/sqrt(x[0]*x[0]+x[1]*x[1])\", \"x[1]/sqrt(x[0]*x[0]+x[1]*x[1])\"), degree=2)\n",
    "bc = DirichletBC(V, g, bounds,1)\n",
    "\n",
    "# Define strain and stress\n",
    "\n",
    "def epsilon(u):\n",
    "    return 0.5*(grad(u) + grad(u).T)\n",
    "    #return sym(nabla_grad(u))\n",
    "\n",
    "def sigma(u):\n",
    "    return lambda_*div(u)*Identity(d) + 2*mu*epsilon(u)\n",
    "\n",
    "# Define variational problem\n",
    "u = TrialFunction(V)\n",
    "d = u.geometric_dimension() # space dimension\n",
    "v = TestFunction(V)\n",
    "f = Constant((0, 0))  # body force\n",
    "T = Constant((0, 0))\n",
    "q = 1e4\n",
    "a = inner(sigma(u), epsilon(v))*dx\n",
    "L = dot(f, v)*dx + dot(T, v)*ds\n",
    "\n",
    "# Compute solution\n",
    "uinit = Function(V)\n",
    "solve(a == L, uinit, bc)\n"
   ]
  },
  {
   "cell_type": "markdown",
   "metadata": {},
   "source": [
    "## Visco-elastic model"
   ]
  },
  {
   "cell_type": "code",
   "execution_count": 4,
   "metadata": {},
   "outputs": [],
   "source": [
    "# parameters and util functions\n",
    "\n",
    "E = 1e5\n",
    "nu = 6*1e7\n",
    "q = None #3.09*1e5\n",
    "fy = 4*1e-4\n",
    "m = 10\n",
    "Cf = 1e8\n",
    "T = 20\n",
    "dt = 0.1\n",
    "folder_path = \"plots/maxwell_test\"\n",
    "\n",
    "def coef(u):\n",
    "    # print(norm(u))\n",
    "    return fy*(1-exp(-m*norm(u)))/norm(u) + Cf\n",
    "\n",
    "def sym_grad(u):\n",
    "    return 0.5*(grad(u) + grad(u).T)\n",
    "\n",
    "def antisym_grad(u):\n",
    "    return 0.5*(grad(u) - grad(u).T)\n"
   ]
  },
  {
   "cell_type": "code",
   "execution_count": 5,
   "metadata": {},
   "outputs": [],
   "source": [
    "# Create mesh\n",
    "\n",
    "filename = \"mesh/meshHoles2\"\n",
    "mesh_init = Mesh(filename + \".xml\")\n",
    "bounds = MeshFunction(\"size_t\", mesh_init, filename + \"_facet_region.xml\")\n",
    "face = MeshFunction(\"size_t\", mesh_init, filename + \"_physical_region.xml\")"
   ]
  },
  {
   "cell_type": "code",
   "execution_count": 6,
   "metadata": {},
   "outputs": [
    {
     "name": "stdout",
     "output_type": "stream",
     "text": [
      "Iteration 0\n",
      "Calling FFC just-in-time (JIT) compiler, this may take some time.\n"
     ]
    },
    {
     "ename": "ArityMismatch",
     "evalue": "Adding expressions with non-matching form arguments ('v_0', 'v_1') vs ('v_0',).",
     "output_type": "error",
     "traceback": [
      "\u001b[0;31m---------------------------------------------------------------------------\u001b[0m",
      "\u001b[0;31mArityMismatch\u001b[0m                             Traceback (most recent call last)",
      "Cell \u001b[0;32mIn[6], line 30\u001b[0m\n\u001b[1;32m     27\u001b[0m a \u001b[38;5;241m=\u001b[39m a1 \u001b[38;5;241m+\u001b[39m a2\n\u001b[1;32m     29\u001b[0m U \u001b[38;5;241m=\u001b[39m Function(W)\n\u001b[0;32m---> 30\u001b[0m \u001b[43msolve\u001b[49m\u001b[43m(\u001b[49m\u001b[43ma\u001b[49m\u001b[43m \u001b[49m\u001b[38;5;241;43m==\u001b[39;49m\u001b[43m \u001b[49m\u001b[43mL\u001b[49m\u001b[43m,\u001b[49m\u001b[43m \u001b[49m\u001b[43mU\u001b[49m\u001b[43m,\u001b[49m\u001b[43m \u001b[49m\u001b[43mbcs\u001b[49m\u001b[38;5;241;43m=\u001b[39;49m\u001b[43mbcs\u001b[49m\u001b[43m,\u001b[49m\u001b[43msolver_parameters\u001b[49m\u001b[38;5;241;43m=\u001b[39;49m\u001b[43m{\u001b[49m\u001b[38;5;124;43m'\u001b[39;49m\u001b[38;5;124;43mlinear_solver\u001b[39;49m\u001b[38;5;124;43m'\u001b[39;49m\u001b[43m \u001b[49m\u001b[43m:\u001b[49m\u001b[43m \u001b[49m\u001b[38;5;124;43m'\u001b[39;49m\u001b[38;5;124;43mmumps\u001b[39;49m\u001b[38;5;124;43m'\u001b[39;49m\u001b[43m}\u001b[49m\u001b[43m)\u001b[49m\n\u001b[1;32m     31\u001b[0m u, sigma \u001b[38;5;241m=\u001b[39m U\u001b[38;5;241m.\u001b[39msplit()\n\u001b[1;32m     32\u001b[0m \u001b[38;5;28;01mif\u001b[39;00m t \u001b[38;5;241m%\u001b[39m \u001b[38;5;241m1\u001b[39m \u001b[38;5;241m==\u001b[39m \u001b[38;5;241m0\u001b[39m:\n",
      "File \u001b[0;32m~/miniconda3/envs/myfenics/lib/python3.11/site-packages/dolfin/fem/solving.py:220\u001b[0m, in \u001b[0;36msolve\u001b[0;34m(*args, **kwargs)\u001b[0m\n\u001b[1;32m    217\u001b[0m \u001b[38;5;66;03m# Call variational problem solver if we get an equation (but not a\u001b[39;00m\n\u001b[1;32m    218\u001b[0m \u001b[38;5;66;03m# tolerance)\u001b[39;00m\n\u001b[1;32m    219\u001b[0m \u001b[38;5;28;01melif\u001b[39;00m \u001b[38;5;28misinstance\u001b[39m(args[\u001b[38;5;241m0\u001b[39m], ufl\u001b[38;5;241m.\u001b[39mclasses\u001b[38;5;241m.\u001b[39mEquation):\n\u001b[0;32m--> 220\u001b[0m     \u001b[43m_solve_varproblem\u001b[49m\u001b[43m(\u001b[49m\u001b[38;5;241;43m*\u001b[39;49m\u001b[43margs\u001b[49m\u001b[43m,\u001b[49m\u001b[43m \u001b[49m\u001b[38;5;241;43m*\u001b[39;49m\u001b[38;5;241;43m*\u001b[39;49m\u001b[43mkwargs\u001b[49m\u001b[43m)\u001b[49m\n\u001b[1;32m    222\u001b[0m \u001b[38;5;66;03m# Default case, just call the wrapped C++ solve function\u001b[39;00m\n\u001b[1;32m    223\u001b[0m \u001b[38;5;28;01melse\u001b[39;00m:\n\u001b[1;32m    224\u001b[0m     \u001b[38;5;28;01mif\u001b[39;00m kwargs:\n",
      "File \u001b[0;32m~/miniconda3/envs/myfenics/lib/python3.11/site-packages/dolfin/fem/solving.py:241\u001b[0m, in \u001b[0;36m_solve_varproblem\u001b[0;34m(*args, **kwargs)\u001b[0m\n\u001b[1;32m    237\u001b[0m \u001b[38;5;66;03m# Solve linear variational problem\u001b[39;00m\n\u001b[1;32m    238\u001b[0m \u001b[38;5;28;01mif\u001b[39;00m \u001b[38;5;28misinstance\u001b[39m(eq\u001b[38;5;241m.\u001b[39mlhs, ufl\u001b[38;5;241m.\u001b[39mForm) \u001b[38;5;129;01mand\u001b[39;00m \u001b[38;5;28misinstance\u001b[39m(eq\u001b[38;5;241m.\u001b[39mrhs, ufl\u001b[38;5;241m.\u001b[39mForm):\n\u001b[1;32m    239\u001b[0m \n\u001b[1;32m    240\u001b[0m     \u001b[38;5;66;03m# Create problem\u001b[39;00m\n\u001b[0;32m--> 241\u001b[0m     problem \u001b[38;5;241m=\u001b[39m \u001b[43mLinearVariationalProblem\u001b[49m\u001b[43m(\u001b[49m\u001b[43meq\u001b[49m\u001b[38;5;241;43m.\u001b[39;49m\u001b[43mlhs\u001b[49m\u001b[43m,\u001b[49m\u001b[43m \u001b[49m\u001b[43meq\u001b[49m\u001b[38;5;241;43m.\u001b[39;49m\u001b[43mrhs\u001b[49m\u001b[43m,\u001b[49m\u001b[43m \u001b[49m\u001b[43mu\u001b[49m\u001b[43m,\u001b[49m\u001b[43m \u001b[49m\u001b[43mbcs\u001b[49m\u001b[43m,\u001b[49m\n\u001b[1;32m    242\u001b[0m \u001b[43m                                       \u001b[49m\u001b[43mform_compiler_parameters\u001b[49m\u001b[38;5;241;43m=\u001b[39;49m\u001b[43mform_compiler_parameters\u001b[49m\u001b[43m)\u001b[49m\n\u001b[1;32m    244\u001b[0m     \u001b[38;5;66;03m# Create solver and call solve\u001b[39;00m\n\u001b[1;32m    245\u001b[0m     solver \u001b[38;5;241m=\u001b[39m LinearVariationalSolver(problem)\n",
      "File \u001b[0;32m~/miniconda3/envs/myfenics/lib/python3.11/site-packages/dolfin/fem/problem.py:56\u001b[0m, in \u001b[0;36mLinearVariationalProblem.__init__\u001b[0;34m(self, a, L, u, bcs, form_compiler_parameters)\u001b[0m\n\u001b[1;32m     54\u001b[0m \u001b[38;5;28;01melse\u001b[39;00m:\n\u001b[1;32m     55\u001b[0m     L \u001b[38;5;241m=\u001b[39m Form(L, form_compiler_parameters\u001b[38;5;241m=\u001b[39mform_compiler_parameters)\n\u001b[0;32m---> 56\u001b[0m a \u001b[38;5;241m=\u001b[39m \u001b[43mForm\u001b[49m\u001b[43m(\u001b[49m\u001b[43ma\u001b[49m\u001b[43m,\u001b[49m\u001b[43m \u001b[49m\u001b[43mform_compiler_parameters\u001b[49m\u001b[38;5;241;43m=\u001b[39;49m\u001b[43mform_compiler_parameters\u001b[49m\u001b[43m)\u001b[49m\n\u001b[1;32m     58\u001b[0m \u001b[38;5;66;03m# Initialize C++ base class\u001b[39;00m\n\u001b[1;32m     59\u001b[0m cpp\u001b[38;5;241m.\u001b[39mfem\u001b[38;5;241m.\u001b[39mLinearVariationalProblem\u001b[38;5;241m.\u001b[39m\u001b[38;5;21m__init__\u001b[39m(\u001b[38;5;28mself\u001b[39m, a, L, u\u001b[38;5;241m.\u001b[39m_cpp_object, bcs)\n",
      "File \u001b[0;32m~/miniconda3/envs/myfenics/lib/python3.11/site-packages/dolfin/fem/form.py:43\u001b[0m, in \u001b[0;36mForm.__init__\u001b[0;34m(self, form, **kwargs)\u001b[0m\n\u001b[1;32m     40\u001b[0m \u001b[38;5;28;01mif\u001b[39;00m form_compiler_parameters \u001b[38;5;129;01mis\u001b[39;00m \u001b[38;5;28;01mNone\u001b[39;00m:\n\u001b[1;32m     41\u001b[0m     form_compiler_parameters \u001b[38;5;241m=\u001b[39m {\u001b[38;5;124m\"\u001b[39m\u001b[38;5;124mexternal_include_dirs\u001b[39m\u001b[38;5;124m\"\u001b[39m: dolfin_pc[\u001b[38;5;124m\"\u001b[39m\u001b[38;5;124minclude_dirs\u001b[39m\u001b[38;5;124m\"\u001b[39m]}\n\u001b[0;32m---> 43\u001b[0m ufc_form \u001b[38;5;241m=\u001b[39m \u001b[43mffc_jit\u001b[49m\u001b[43m(\u001b[49m\u001b[43mform\u001b[49m\u001b[43m,\u001b[49m\u001b[43m \u001b[49m\u001b[43mform_compiler_parameters\u001b[49m\u001b[38;5;241;43m=\u001b[39;49m\u001b[43mform_compiler_parameters\u001b[49m\u001b[43m,\u001b[49m\n\u001b[1;32m     44\u001b[0m \u001b[43m                   \u001b[49m\u001b[43mmpi_comm\u001b[49m\u001b[38;5;241;43m=\u001b[39;49m\u001b[43mmesh\u001b[49m\u001b[38;5;241;43m.\u001b[39;49m\u001b[43mmpi_comm\u001b[49m\u001b[43m(\u001b[49m\u001b[43m)\u001b[49m\u001b[43m)\u001b[49m\n\u001b[1;32m     45\u001b[0m ufc_form \u001b[38;5;241m=\u001b[39m cpp\u001b[38;5;241m.\u001b[39mfem\u001b[38;5;241m.\u001b[39mmake_ufc_form(ufc_form[\u001b[38;5;241m0\u001b[39m])\n\u001b[1;32m     47\u001b[0m function_spaces \u001b[38;5;241m=\u001b[39m kwargs\u001b[38;5;241m.\u001b[39mget(\u001b[38;5;124m\"\u001b[39m\u001b[38;5;124mfunction_spaces\u001b[39m\u001b[38;5;124m\"\u001b[39m)\n",
      "File \u001b[0;32m~/miniconda3/envs/myfenics/lib/python3.11/site-packages/dolfin/jit/jit.py:47\u001b[0m, in \u001b[0;36mmpi_jit_decorator.<locals>.mpi_jit\u001b[0;34m(*args, **kwargs)\u001b[0m\n\u001b[1;32m     45\u001b[0m \u001b[38;5;66;03m# Just call JIT compiler when running in serial\u001b[39;00m\n\u001b[1;32m     46\u001b[0m \u001b[38;5;28;01mif\u001b[39;00m MPI\u001b[38;5;241m.\u001b[39msize(mpi_comm) \u001b[38;5;241m==\u001b[39m \u001b[38;5;241m1\u001b[39m:\n\u001b[0;32m---> 47\u001b[0m     \u001b[38;5;28;01mreturn\u001b[39;00m \u001b[43mlocal_jit\u001b[49m\u001b[43m(\u001b[49m\u001b[38;5;241;43m*\u001b[39;49m\u001b[43margs\u001b[49m\u001b[43m,\u001b[49m\u001b[43m \u001b[49m\u001b[38;5;241;43m*\u001b[39;49m\u001b[38;5;241;43m*\u001b[39;49m\u001b[43mkwargs\u001b[49m\u001b[43m)\u001b[49m\n\u001b[1;32m     49\u001b[0m \u001b[38;5;66;03m# Default status (0 == ok, 1 == fail)\u001b[39;00m\n\u001b[1;32m     50\u001b[0m status \u001b[38;5;241m=\u001b[39m \u001b[38;5;241m0\u001b[39m\n",
      "File \u001b[0;32m~/miniconda3/envs/myfenics/lib/python3.11/site-packages/dolfin/jit/jit.py:97\u001b[0m, in \u001b[0;36mffc_jit\u001b[0;34m(ufl_form, form_compiler_parameters)\u001b[0m\n\u001b[1;32m     95\u001b[0m p\u001b[38;5;241m.\u001b[39mupdate(\u001b[38;5;28mdict\u001b[39m(parameters[\u001b[38;5;124m\"\u001b[39m\u001b[38;5;124mform_compiler\u001b[39m\u001b[38;5;124m\"\u001b[39m]))\n\u001b[1;32m     96\u001b[0m p\u001b[38;5;241m.\u001b[39mupdate(form_compiler_parameters \u001b[38;5;129;01mor\u001b[39;00m {})\n\u001b[0;32m---> 97\u001b[0m \u001b[38;5;28;01mreturn\u001b[39;00m \u001b[43mffc\u001b[49m\u001b[38;5;241;43m.\u001b[39;49m\u001b[43mjit\u001b[49m\u001b[43m(\u001b[49m\u001b[43mufl_form\u001b[49m\u001b[43m,\u001b[49m\u001b[43m \u001b[49m\u001b[43mparameters\u001b[49m\u001b[38;5;241;43m=\u001b[39;49m\u001b[43mp\u001b[49m\u001b[43m)\u001b[49m\n",
      "File \u001b[0;32m~/miniconda3/envs/myfenics/lib/python3.11/site-packages/ffc/jitcompiler.py:217\u001b[0m, in \u001b[0;36mjit\u001b[0;34m(ufl_object, parameters, indirect)\u001b[0m\n\u001b[1;32m    214\u001b[0m kind, module_name \u001b[38;5;241m=\u001b[39m compute_jit_prefix(ufl_object, parameters)\n\u001b[1;32m    216\u001b[0m \u001b[38;5;66;03m# Inspect cache and generate+build if necessary\u001b[39;00m\n\u001b[0;32m--> 217\u001b[0m module \u001b[38;5;241m=\u001b[39m \u001b[43mjit_build\u001b[49m\u001b[43m(\u001b[49m\u001b[43mufl_object\u001b[49m\u001b[43m,\u001b[49m\u001b[43m \u001b[49m\u001b[43mmodule_name\u001b[49m\u001b[43m,\u001b[49m\u001b[43m \u001b[49m\u001b[43mparameters\u001b[49m\u001b[43m)\u001b[49m\n\u001b[1;32m    219\u001b[0m \u001b[38;5;66;03m# Raise exception on failure to build or import module\u001b[39;00m\n\u001b[1;32m    220\u001b[0m \u001b[38;5;28;01mif\u001b[39;00m module \u001b[38;5;129;01mis\u001b[39;00m \u001b[38;5;28;01mNone\u001b[39;00m:\n\u001b[1;32m    221\u001b[0m     \u001b[38;5;66;03m# TODO: To communicate directory name here, need dijitso params to call\u001b[39;00m\n\u001b[1;32m    222\u001b[0m     \u001b[38;5;66;03m#fail_dir = dijitso.cache.create_fail_dir_path(signature, dijitso_cache_params)\u001b[39;00m\n",
      "File \u001b[0;32m~/miniconda3/envs/myfenics/lib/python3.11/site-packages/ffc/jitcompiler.py:130\u001b[0m, in \u001b[0;36mjit_build\u001b[0;34m(ufl_object, module_name, parameters)\u001b[0m\n\u001b[1;32m    123\u001b[0m params \u001b[38;5;241m=\u001b[39m dijitso\u001b[38;5;241m.\u001b[39mvalidate_params({\n\u001b[1;32m    124\u001b[0m     \u001b[38;5;124m\"\u001b[39m\u001b[38;5;124mcache\u001b[39m\u001b[38;5;124m\"\u001b[39m: cache_params,\n\u001b[1;32m    125\u001b[0m     \u001b[38;5;124m\"\u001b[39m\u001b[38;5;124mbuild\u001b[39m\u001b[38;5;124m\"\u001b[39m: build_params,\n\u001b[1;32m    126\u001b[0m     \u001b[38;5;124m\"\u001b[39m\u001b[38;5;124mgenerator\u001b[39m\u001b[38;5;124m\"\u001b[39m: parameters,  \u001b[38;5;66;03m# ffc parameters, just passed on to jit_generate\u001b[39;00m\n\u001b[1;32m    127\u001b[0m })\n\u001b[1;32m    129\u001b[0m \u001b[38;5;66;03m# Carry out jit compilation, calling jit_generate only if needed\u001b[39;00m\n\u001b[0;32m--> 130\u001b[0m module, signature \u001b[38;5;241m=\u001b[39m \u001b[43mdijitso\u001b[49m\u001b[38;5;241;43m.\u001b[39;49m\u001b[43mjit\u001b[49m\u001b[43m(\u001b[49m\u001b[43mjitable\u001b[49m\u001b[38;5;241;43m=\u001b[39;49m\u001b[43mufl_object\u001b[49m\u001b[43m,\u001b[49m\n\u001b[1;32m    131\u001b[0m \u001b[43m                                \u001b[49m\u001b[43mname\u001b[49m\u001b[38;5;241;43m=\u001b[39;49m\u001b[43mmodule_name\u001b[49m\u001b[43m,\u001b[49m\n\u001b[1;32m    132\u001b[0m \u001b[43m                                \u001b[49m\u001b[43mparams\u001b[49m\u001b[38;5;241;43m=\u001b[39;49m\u001b[43mparams\u001b[49m\u001b[43m,\u001b[49m\n\u001b[1;32m    133\u001b[0m \u001b[43m                                \u001b[49m\u001b[43mgenerate\u001b[49m\u001b[38;5;241;43m=\u001b[39;49m\u001b[43mjit_generate\u001b[49m\u001b[43m)\u001b[49m\n\u001b[1;32m    134\u001b[0m \u001b[38;5;28;01mreturn\u001b[39;00m module\n",
      "File \u001b[0;32m~/miniconda3/envs/myfenics/lib/python3.11/site-packages/dijitso/jit.py:165\u001b[0m, in \u001b[0;36mjit\u001b[0;34m(jitable, name, params, generate, send, receive, wait)\u001b[0m\n\u001b[1;32m    161\u001b[0m     error(\u001b[38;5;124m\"\u001b[39m\u001b[38;5;124mPlease provide only one of generate or receive.\u001b[39m\u001b[38;5;124m\"\u001b[39m)\n\u001b[1;32m    163\u001b[0m \u001b[38;5;28;01melif\u001b[39;00m generate:\n\u001b[1;32m    164\u001b[0m     \u001b[38;5;66;03m# 1) Generate source code\u001b[39;00m\n\u001b[0;32m--> 165\u001b[0m     header, source, dependencies \u001b[38;5;241m=\u001b[39m \u001b[43mgenerate\u001b[49m\u001b[43m(\u001b[49m\u001b[43mjitable\u001b[49m\u001b[43m,\u001b[49m\u001b[43m \u001b[49m\u001b[43mname\u001b[49m\u001b[43m,\u001b[49m\u001b[43m \u001b[49m\u001b[43msignature\u001b[49m\u001b[43m,\u001b[49m\u001b[43m \u001b[49m\u001b[43mparams\u001b[49m\u001b[43m[\u001b[49m\u001b[38;5;124;43m\"\u001b[39;49m\u001b[38;5;124;43mgenerator\u001b[39;49m\u001b[38;5;124;43m\"\u001b[39;49m\u001b[43m]\u001b[49m\u001b[43m)\u001b[49m\n\u001b[1;32m    166\u001b[0m     \u001b[38;5;66;03m# Ensure we got unicode from generate\u001b[39;00m\n\u001b[1;32m    167\u001b[0m     header \u001b[38;5;241m=\u001b[39m as_unicode(header)\n",
      "File \u001b[0;32m~/miniconda3/envs/myfenics/lib/python3.11/site-packages/ffc/jitcompiler.py:65\u001b[0m, in \u001b[0;36mjit_generate\u001b[0;34m(ufl_object, module_name, signature, parameters)\u001b[0m\n\u001b[1;32m     62\u001b[0m \u001b[38;5;28;01melif\u001b[39;00m \u001b[38;5;28misinstance\u001b[39m(ufl_object, ufl\u001b[38;5;241m.\u001b[39mMesh):\n\u001b[1;32m     63\u001b[0m     compile_object \u001b[38;5;241m=\u001b[39m compile_coordinate_mapping\n\u001b[0;32m---> 65\u001b[0m code_h, code_c, dependent_ufl_objects \u001b[38;5;241m=\u001b[39m \u001b[43mcompile_object\u001b[49m\u001b[43m(\u001b[49m\u001b[43mufl_object\u001b[49m\u001b[43m,\u001b[49m\n\u001b[1;32m     66\u001b[0m \u001b[43m        \u001b[49m\u001b[43mprefix\u001b[49m\u001b[38;5;241;43m=\u001b[39;49m\u001b[43mmodule_name\u001b[49m\u001b[43m,\u001b[49m\u001b[43m \u001b[49m\u001b[43mparameters\u001b[49m\u001b[38;5;241;43m=\u001b[39;49m\u001b[43mparameters\u001b[49m\u001b[43m,\u001b[49m\u001b[43m \u001b[49m\u001b[43mjit\u001b[49m\u001b[38;5;241;43m=\u001b[39;49m\u001b[38;5;28;43;01mTrue\u001b[39;49;00m\u001b[43m)\u001b[49m\n\u001b[1;32m     68\u001b[0m \u001b[38;5;66;03m# Jit compile dependent objects separately,\u001b[39;00m\n\u001b[1;32m     69\u001b[0m \u001b[38;5;66;03m# but pass indirect=True to skip instantiating objects.\u001b[39;00m\n\u001b[1;32m     70\u001b[0m \u001b[38;5;66;03m# (this is done in here such that it's only triggered\u001b[39;00m\n\u001b[1;32m     71\u001b[0m \u001b[38;5;66;03m# if parent jit module is missing, and it's done after\u001b[39;00m\n\u001b[1;32m     72\u001b[0m \u001b[38;5;66;03m# compile_object because some misformed ufl objects may\u001b[39;00m\n\u001b[1;32m     73\u001b[0m \u001b[38;5;66;03m# require analysis to determine (looking at you Expression...))\u001b[39;00m\n\u001b[1;32m     74\u001b[0m dependencies \u001b[38;5;241m=\u001b[39m []\n",
      "File \u001b[0;32m~/miniconda3/envs/myfenics/lib/python3.11/site-packages/ffc/compiler.py:142\u001b[0m, in \u001b[0;36mcompile_form\u001b[0;34m(forms, object_names, prefix, parameters, jit)\u001b[0m\n\u001b[1;32m    139\u001b[0m \u001b[38;5;28;01mdef\u001b[39;00m \u001b[38;5;21mcompile_form\u001b[39m(forms, object_names\u001b[38;5;241m=\u001b[39m\u001b[38;5;28;01mNone\u001b[39;00m,\n\u001b[1;32m    140\u001b[0m                  prefix\u001b[38;5;241m=\u001b[39m\u001b[38;5;124m\"\u001b[39m\u001b[38;5;124mForm\u001b[39m\u001b[38;5;124m\"\u001b[39m, parameters\u001b[38;5;241m=\u001b[39m\u001b[38;5;28;01mNone\u001b[39;00m, jit\u001b[38;5;241m=\u001b[39m\u001b[38;5;28;01mFalse\u001b[39;00m):\n\u001b[1;32m    141\u001b[0m \u001b[38;5;250m    \u001b[39m\u001b[38;5;124;03m\"\"\"This function generates UFC code for a given UFL form or list of UFL forms.\"\"\"\u001b[39;00m\n\u001b[0;32m--> 142\u001b[0m     \u001b[38;5;28;01mreturn\u001b[39;00m \u001b[43mcompile_ufl_objects\u001b[49m\u001b[43m(\u001b[49m\u001b[43mforms\u001b[49m\u001b[43m,\u001b[49m\u001b[43m \u001b[49m\u001b[38;5;124;43m\"\u001b[39;49m\u001b[38;5;124;43mform\u001b[39;49m\u001b[38;5;124;43m\"\u001b[39;49m\u001b[43m,\u001b[49m\u001b[43m \u001b[49m\u001b[43mobject_names\u001b[49m\u001b[43m,\u001b[49m\n\u001b[1;32m    143\u001b[0m \u001b[43m                               \u001b[49m\u001b[43mprefix\u001b[49m\u001b[43m,\u001b[49m\u001b[43m \u001b[49m\u001b[43mparameters\u001b[49m\u001b[43m,\u001b[49m\u001b[43m \u001b[49m\u001b[43mjit\u001b[49m\u001b[43m)\u001b[49m\n",
      "File \u001b[0;32m~/miniconda3/envs/myfenics/lib/python3.11/site-packages/ffc/compiler.py:185\u001b[0m, in \u001b[0;36mcompile_ufl_objects\u001b[0;34m(ufl_objects, kind, object_names, prefix, parameters, jit)\u001b[0m\n\u001b[1;32m    183\u001b[0m \u001b[38;5;66;03m# Stage 1: analysis\u001b[39;00m\n\u001b[1;32m    184\u001b[0m cpu_time \u001b[38;5;241m=\u001b[39m time()\n\u001b[0;32m--> 185\u001b[0m analysis \u001b[38;5;241m=\u001b[39m \u001b[43manalyze_ufl_objects\u001b[49m\u001b[43m(\u001b[49m\u001b[43mufl_objects\u001b[49m\u001b[43m,\u001b[49m\u001b[43m \u001b[49m\u001b[43mkind\u001b[49m\u001b[43m,\u001b[49m\u001b[43m \u001b[49m\u001b[43mparameters\u001b[49m\u001b[43m)\u001b[49m\n\u001b[1;32m    186\u001b[0m _print_timing(\u001b[38;5;241m1\u001b[39m, time() \u001b[38;5;241m-\u001b[39m cpu_time)\n\u001b[1;32m    188\u001b[0m \u001b[38;5;66;03m# Stage 2: intermediate representation\u001b[39;00m\n",
      "File \u001b[0;32m~/miniconda3/envs/myfenics/lib/python3.11/site-packages/ffc/analysis.py:89\u001b[0m, in \u001b[0;36manalyze_ufl_objects\u001b[0;34m(ufl_objects, kind, parameters)\u001b[0m\n\u001b[1;32m     86\u001b[0m forms \u001b[38;5;241m=\u001b[39m ufl_objects\n\u001b[1;32m     88\u001b[0m \u001b[38;5;66;03m# Analyze forms\u001b[39;00m\n\u001b[0;32m---> 89\u001b[0m form_datas \u001b[38;5;241m=\u001b[39m \u001b[38;5;28;43mtuple\u001b[39;49m\u001b[43m(\u001b[49m\u001b[43m_analyze_form\u001b[49m\u001b[43m(\u001b[49m\u001b[43mform\u001b[49m\u001b[43m,\u001b[49m\u001b[43m \u001b[49m\u001b[43mparameters\u001b[49m\u001b[43m)\u001b[49m\n\u001b[1;32m     90\u001b[0m \u001b[43m                   \u001b[49m\u001b[38;5;28;43;01mfor\u001b[39;49;00m\u001b[43m \u001b[49m\u001b[43mform\u001b[49m\u001b[43m \u001b[49m\u001b[38;5;129;43;01min\u001b[39;49;00m\u001b[43m \u001b[49m\u001b[43mforms\u001b[49m\u001b[43m)\u001b[49m\n\u001b[1;32m     92\u001b[0m \u001b[38;5;66;03m# Extract unique elements accross all forms\u001b[39;00m\n\u001b[1;32m     93\u001b[0m \u001b[38;5;28;01mfor\u001b[39;00m form_data \u001b[38;5;129;01min\u001b[39;00m form_datas:\n",
      "File \u001b[0;32m~/miniconda3/envs/myfenics/lib/python3.11/site-packages/ffc/analysis.py:89\u001b[0m, in \u001b[0;36m<genexpr>\u001b[0;34m(.0)\u001b[0m\n\u001b[1;32m     86\u001b[0m forms \u001b[38;5;241m=\u001b[39m ufl_objects\n\u001b[1;32m     88\u001b[0m \u001b[38;5;66;03m# Analyze forms\u001b[39;00m\n\u001b[0;32m---> 89\u001b[0m form_datas \u001b[38;5;241m=\u001b[39m \u001b[38;5;28mtuple\u001b[39m(\u001b[43m_analyze_form\u001b[49m\u001b[43m(\u001b[49m\u001b[43mform\u001b[49m\u001b[43m,\u001b[49m\u001b[43m \u001b[49m\u001b[43mparameters\u001b[49m\u001b[43m)\u001b[49m\n\u001b[1;32m     90\u001b[0m                    \u001b[38;5;28;01mfor\u001b[39;00m form \u001b[38;5;129;01min\u001b[39;00m forms)\n\u001b[1;32m     92\u001b[0m \u001b[38;5;66;03m# Extract unique elements accross all forms\u001b[39;00m\n\u001b[1;32m     93\u001b[0m \u001b[38;5;28;01mfor\u001b[39;00m form_data \u001b[38;5;129;01min\u001b[39;00m form_datas:\n",
      "File \u001b[0;32m~/miniconda3/envs/myfenics/lib/python3.11/site-packages/ffc/analysis.py:169\u001b[0m, in \u001b[0;36m_analyze_form\u001b[0;34m(form, parameters)\u001b[0m\n\u001b[1;32m    162\u001b[0m \u001b[38;5;28;01mif\u001b[39;00m r \u001b[38;5;241m==\u001b[39m \u001b[38;5;124m\"\u001b[39m\u001b[38;5;124muflacs\u001b[39m\u001b[38;5;124m\"\u001b[39m:\n\u001b[1;32m    163\u001b[0m     \u001b[38;5;66;03m# Temporary workaround to let uflacs have a different\u001b[39;00m\n\u001b[1;32m    164\u001b[0m     \u001b[38;5;66;03m# preprocessing pipeline than the legacy quadrature\u001b[39;00m\n\u001b[1;32m    165\u001b[0m     \u001b[38;5;66;03m# representation. This approach imposes a limitation that,\u001b[39;00m\n\u001b[1;32m    166\u001b[0m     \u001b[38;5;66;03m# e.g. uflacs and qudrature, representations cannot be mixed\u001b[39;00m\n\u001b[1;32m    167\u001b[0m     \u001b[38;5;66;03m# in the same form.\u001b[39;00m\n\u001b[1;32m    168\u001b[0m     \u001b[38;5;28;01mfrom\u001b[39;00m \u001b[38;5;21;01mufl\u001b[39;00m\u001b[38;5;21;01m.\u001b[39;00m\u001b[38;5;21;01mclasses\u001b[39;00m \u001b[38;5;28;01mimport\u001b[39;00m Jacobian\n\u001b[0;32m--> 169\u001b[0m     form_data \u001b[38;5;241m=\u001b[39m \u001b[43mcompute_form_data\u001b[49m\u001b[43m(\u001b[49m\u001b[43mform\u001b[49m\u001b[43m,\u001b[49m\n\u001b[1;32m    170\u001b[0m \u001b[43m                                  \u001b[49m\u001b[43mdo_apply_function_pullbacks\u001b[49m\u001b[38;5;241;43m=\u001b[39;49m\u001b[38;5;28;43;01mTrue\u001b[39;49;00m\u001b[43m,\u001b[49m\n\u001b[1;32m    171\u001b[0m \u001b[43m                                  \u001b[49m\u001b[43mdo_apply_integral_scaling\u001b[49m\u001b[38;5;241;43m=\u001b[39;49m\u001b[38;5;28;43;01mTrue\u001b[39;49;00m\u001b[43m,\u001b[49m\n\u001b[1;32m    172\u001b[0m \u001b[43m                                  \u001b[49m\u001b[43mdo_apply_geometry_lowering\u001b[49m\u001b[38;5;241;43m=\u001b[39;49m\u001b[38;5;28;43;01mTrue\u001b[39;49;00m\u001b[43m,\u001b[49m\n\u001b[1;32m    173\u001b[0m \u001b[43m                                  \u001b[49m\u001b[43mpreserve_geometry_types\u001b[49m\u001b[38;5;241;43m=\u001b[39;49m\u001b[43m(\u001b[49m\u001b[43mJacobian\u001b[49m\u001b[43m,\u001b[49m\u001b[43m)\u001b[49m\u001b[43m,\u001b[49m\n\u001b[1;32m    174\u001b[0m \u001b[43m                                  \u001b[49m\u001b[43mdo_apply_restrictions\u001b[49m\u001b[38;5;241;43m=\u001b[39;49m\u001b[38;5;28;43;01mTrue\u001b[39;49;00m\u001b[43m)\u001b[49m\n\u001b[1;32m    175\u001b[0m \u001b[38;5;28;01melif\u001b[39;00m r \u001b[38;5;241m==\u001b[39m \u001b[38;5;124m\"\u001b[39m\u001b[38;5;124mtsfc\u001b[39m\u001b[38;5;124m\"\u001b[39m:\n\u001b[1;32m    176\u001b[0m     \u001b[38;5;28;01mtry\u001b[39;00m:\n\u001b[1;32m    177\u001b[0m         \u001b[38;5;66;03m# TSFC provides compute_form_data wrapper using correct\u001b[39;00m\n\u001b[1;32m    178\u001b[0m         \u001b[38;5;66;03m# kwargs\u001b[39;00m\n",
      "File \u001b[0;32m~/miniconda3/envs/myfenics/lib/python3.11/site-packages/ufl/algorithms/compute_form_data.py:418\u001b[0m, in \u001b[0;36mcompute_form_data\u001b[0;34m(form, do_apply_function_pullbacks, do_apply_integral_scaling, do_apply_geometry_lowering, preserve_geometry_types, do_apply_default_restrictions, do_apply_restrictions, do_estimate_degrees, do_append_everywhere_integrals, complex_mode)\u001b[0m\n\u001b[1;32m    415\u001b[0m \u001b[38;5;28;01mif\u001b[39;00m \u001b[38;5;129;01mnot\u001b[39;00m complex_mode:\n\u001b[1;32m    416\u001b[0m     preprocessed_form \u001b[38;5;241m=\u001b[39m remove_complex_nodes(preprocessed_form)\n\u001b[0;32m--> 418\u001b[0m \u001b[43mcheck_form_arity\u001b[49m\u001b[43m(\u001b[49m\u001b[43mpreprocessed_form\u001b[49m\u001b[43m,\u001b[49m\u001b[43m \u001b[49m\u001b[38;5;28;43mself\u001b[39;49m\u001b[38;5;241;43m.\u001b[39;49m\u001b[43moriginal_form\u001b[49m\u001b[38;5;241;43m.\u001b[39;49m\u001b[43marguments\u001b[49m\u001b[43m(\u001b[49m\u001b[43m)\u001b[49m\u001b[43m,\u001b[49m\u001b[43m \u001b[49m\u001b[43mcomplex_mode\u001b[49m\u001b[43m)\u001b[49m  \u001b[38;5;66;03m# Currently testing how fast this is\u001b[39;00m\n\u001b[1;32m    420\u001b[0m \u001b[38;5;66;03m# TODO: This member is used by unit tests, change the tests to\u001b[39;00m\n\u001b[1;32m    421\u001b[0m \u001b[38;5;66;03m# remove this!\u001b[39;00m\n\u001b[1;32m    422\u001b[0m \u001b[38;5;28mself\u001b[39m\u001b[38;5;241m.\u001b[39mpreprocessed_form \u001b[38;5;241m=\u001b[39m preprocessed_form\n",
      "File \u001b[0;32m~/miniconda3/envs/myfenics/lib/python3.11/site-packages/ufl/algorithms/check_arities.py:177\u001b[0m, in \u001b[0;36mcheck_form_arity\u001b[0;34m(form, arguments, complex_mode)\u001b[0m\n\u001b[1;32m    175\u001b[0m \u001b[38;5;28;01mdef\u001b[39;00m \u001b[38;5;21mcheck_form_arity\u001b[39m(form, arguments, complex_mode\u001b[38;5;241m=\u001b[39m\u001b[38;5;28;01mFalse\u001b[39;00m):\n\u001b[1;32m    176\u001b[0m     \u001b[38;5;28;01mfor\u001b[39;00m itg \u001b[38;5;129;01min\u001b[39;00m form\u001b[38;5;241m.\u001b[39mintegrals():\n\u001b[0;32m--> 177\u001b[0m         \u001b[43mcheck_integrand_arity\u001b[49m\u001b[43m(\u001b[49m\u001b[43mitg\u001b[49m\u001b[38;5;241;43m.\u001b[39;49m\u001b[43mintegrand\u001b[49m\u001b[43m(\u001b[49m\u001b[43m)\u001b[49m\u001b[43m,\u001b[49m\u001b[43m \u001b[49m\u001b[43marguments\u001b[49m\u001b[43m,\u001b[49m\u001b[43m \u001b[49m\u001b[43mcomplex_mode\u001b[49m\u001b[43m)\u001b[49m\n",
      "File \u001b[0;32m~/miniconda3/envs/myfenics/lib/python3.11/site-packages/ufl/algorithms/check_arities.py:159\u001b[0m, in \u001b[0;36mcheck_integrand_arity\u001b[0;34m(expr, arguments, complex_mode)\u001b[0m\n\u001b[1;32m    156\u001b[0m arguments \u001b[38;5;241m=\u001b[39m \u001b[38;5;28mtuple\u001b[39m(\u001b[38;5;28msorted\u001b[39m(\u001b[38;5;28mset\u001b[39m(arguments),\n\u001b[1;32m    157\u001b[0m                          key\u001b[38;5;241m=\u001b[39m\u001b[38;5;28;01mlambda\u001b[39;00m x: (x\u001b[38;5;241m.\u001b[39mnumber(), x\u001b[38;5;241m.\u001b[39mpart())))\n\u001b[1;32m    158\u001b[0m rules \u001b[38;5;241m=\u001b[39m ArityChecker(arguments)\n\u001b[0;32m--> 159\u001b[0m arg_tuples \u001b[38;5;241m=\u001b[39m \u001b[43mmap_expr_dag\u001b[49m\u001b[43m(\u001b[49m\u001b[43mrules\u001b[49m\u001b[43m,\u001b[49m\u001b[43m \u001b[49m\u001b[43mexpr\u001b[49m\u001b[43m,\u001b[49m\u001b[43m \u001b[49m\u001b[43mcompress\u001b[49m\u001b[38;5;241;43m=\u001b[39;49m\u001b[38;5;28;43;01mFalse\u001b[39;49;00m\u001b[43m)\u001b[49m\n\u001b[1;32m    160\u001b[0m args \u001b[38;5;241m=\u001b[39m \u001b[38;5;28mtuple\u001b[39m(a[\u001b[38;5;241m0\u001b[39m] \u001b[38;5;28;01mfor\u001b[39;00m a \u001b[38;5;129;01min\u001b[39;00m arg_tuples)\n\u001b[1;32m    161\u001b[0m \u001b[38;5;28;01mif\u001b[39;00m args \u001b[38;5;241m!=\u001b[39m arguments:\n",
      "File \u001b[0;32m~/miniconda3/envs/myfenics/lib/python3.11/site-packages/ufl/corealg/map_dag.py:37\u001b[0m, in \u001b[0;36mmap_expr_dag\u001b[0;34m(function, expression, compress)\u001b[0m\n\u001b[1;32m     28\u001b[0m \u001b[38;5;28;01mdef\u001b[39;00m \u001b[38;5;21mmap_expr_dag\u001b[39m(function, expression, compress\u001b[38;5;241m=\u001b[39m\u001b[38;5;28;01mTrue\u001b[39;00m):\n\u001b[1;32m     29\u001b[0m \u001b[38;5;250m    \u001b[39m\u001b[38;5;124;03m\"\"\"Apply a function to each subexpression node in an expression DAG.\u001b[39;00m\n\u001b[1;32m     30\u001b[0m \n\u001b[1;32m     31\u001b[0m \u001b[38;5;124;03m    If *compress* is ``True`` (default) the output object from\u001b[39;00m\n\u001b[0;32m   (...)\u001b[0m\n\u001b[1;32m     35\u001b[0m \u001b[38;5;124;03m    Return the result of the final function call.\u001b[39;00m\n\u001b[1;32m     36\u001b[0m \u001b[38;5;124;03m    \"\"\"\u001b[39;00m\n\u001b[0;32m---> 37\u001b[0m     result, \u001b[38;5;241m=\u001b[39m \u001b[43mmap_expr_dags\u001b[49m\u001b[43m(\u001b[49m\u001b[43mfunction\u001b[49m\u001b[43m,\u001b[49m\u001b[43m \u001b[49m\u001b[43m[\u001b[49m\u001b[43mexpression\u001b[49m\u001b[43m]\u001b[49m\u001b[43m,\u001b[49m\u001b[43m \u001b[49m\u001b[43mcompress\u001b[49m\u001b[38;5;241;43m=\u001b[39;49m\u001b[43mcompress\u001b[49m\u001b[43m)\u001b[49m\n\u001b[1;32m     38\u001b[0m     \u001b[38;5;28;01mreturn\u001b[39;00m result\n",
      "File \u001b[0;32m~/miniconda3/envs/myfenics/lib/python3.11/site-packages/ufl/corealg/map_dag.py:86\u001b[0m, in \u001b[0;36mmap_expr_dags\u001b[0;34m(function, expressions, compress)\u001b[0m\n\u001b[1;32m     84\u001b[0m     r \u001b[38;5;241m=\u001b[39m handlers[v\u001b[38;5;241m.\u001b[39m_ufl_typecode_](v)\n\u001b[1;32m     85\u001b[0m \u001b[38;5;28;01melse\u001b[39;00m:\n\u001b[0;32m---> 86\u001b[0m     r \u001b[38;5;241m=\u001b[39m \u001b[43mhandlers\u001b[49m\u001b[43m[\u001b[49m\u001b[43mv\u001b[49m\u001b[38;5;241;43m.\u001b[39;49m\u001b[43m_ufl_typecode_\u001b[49m\u001b[43m]\u001b[49m\u001b[43m(\u001b[49m\u001b[43mv\u001b[49m\u001b[43m,\u001b[49m\u001b[43m \u001b[49m\u001b[38;5;241;43m*\u001b[39;49m\u001b[43m[\u001b[49m\u001b[43mvcache\u001b[49m\u001b[43m[\u001b[49m\u001b[43mu\u001b[49m\u001b[43m]\u001b[49m\u001b[43m \u001b[49m\u001b[38;5;28;43;01mfor\u001b[39;49;00m\u001b[43m \u001b[49m\u001b[43mu\u001b[49m\u001b[43m \u001b[49m\u001b[38;5;129;43;01min\u001b[39;49;00m\u001b[43m \u001b[49m\u001b[43mv\u001b[49m\u001b[38;5;241;43m.\u001b[39;49m\u001b[43mufl_operands\u001b[49m\u001b[43m]\u001b[49m\u001b[43m)\u001b[49m\n\u001b[1;32m     88\u001b[0m \u001b[38;5;66;03m# Optionally check if r is in rcache, a memory optimization\u001b[39;00m\n\u001b[1;32m     89\u001b[0m \u001b[38;5;66;03m# to be able to keep representation of result compact\u001b[39;00m\n\u001b[1;32m     90\u001b[0m \u001b[38;5;28;01mif\u001b[39;00m compress:\n",
      "File \u001b[0;32m~/miniconda3/envs/myfenics/lib/python3.11/site-packages/ufl/algorithms/check_arities.py:48\u001b[0m, in \u001b[0;36mArityChecker.sum\u001b[0;34m(self, o, a, b)\u001b[0m\n\u001b[1;32m     46\u001b[0m \u001b[38;5;28;01mdef\u001b[39;00m \u001b[38;5;21msum\u001b[39m(\u001b[38;5;28mself\u001b[39m, o, a, b):\n\u001b[1;32m     47\u001b[0m     \u001b[38;5;28;01mif\u001b[39;00m a \u001b[38;5;241m!=\u001b[39m b:\n\u001b[0;32m---> 48\u001b[0m         \u001b[38;5;28;01mraise\u001b[39;00m ArityMismatch(\u001b[38;5;124m\"\u001b[39m\u001b[38;5;124mAdding expressions with non-matching form arguments \u001b[39m\u001b[38;5;132;01m{0}\u001b[39;00m\u001b[38;5;124m vs \u001b[39m\u001b[38;5;132;01m{1}\u001b[39;00m\u001b[38;5;124m.\u001b[39m\u001b[38;5;124m\"\u001b[39m\u001b[38;5;241m.\u001b[39mformat(_afmt(a), _afmt(b)))\n\u001b[1;32m     49\u001b[0m     \u001b[38;5;28;01mreturn\u001b[39;00m a\n",
      "\u001b[0;31mArityMismatch\u001b[0m: Adding expressions with non-matching form arguments ('v_0', 'v_1') vs ('v_0',)."
     ]
    }
   ],
   "source": [
    "# Create function spaces\n",
    "\n",
    "V = VectorElement(\"P\", mesh_init.ufl_cell(), 1)\n",
    "Q = TensorElement(\"P\", mesh_init.ufl_cell(), 1)\n",
    "W = FunctionSpace(mesh_init,V*Q)\n",
    "\n",
    "# Define boundary condition\n",
    "\n",
    "bc_out = DirichletBC(W.sub(0), Constant((0,0)), bounds, 1)\n",
    "bcs = [bc_out]\n",
    "\n",
    "# Define variational problem\n",
    "\n",
    "u0 = interpolate(uinit, W.sub(0).collapse())\n",
    "sigma0 = project(sigma(u0),W.sub(1).collapse())\n",
    "# f = Constant((0,0))\n",
    "for t in range(T):\n",
    "    print(f'Iteration {t}')\n",
    "    ut,sigmat = TrialFunctions(W)\n",
    "    v,w = TestFunctions(W)\n",
    "    \n",
    "    a1 = (1/dt)*inner(sigmat,w)*dx + E/nu * inner(sigmat,w)*dx + inner(dot(u0,grad(sigmat)), w)*dx - inner(dot(grad(u0),sigmat),w)*dx \\\n",
    "        - inner(dot(sigmat,grad(u0).T),w)*dx \n",
    "        \n",
    "    L = (1/dt)*inner(sigma0,w)*dx + E*inner(sym_grad(u0),w)*dx \n",
    "    a2 = inner(sigma0,sym_grad(v))*dx + coef(u0)*inner(ut,v)*dx\n",
    "    a = a1 + a2\n",
    "    \n",
    "    U = Function(W)\n",
    "    solve(a == L, U, bcs=bcs,solver_parameters={'linear_solver' : 'mumps'})\n",
    "    u, sigma = U.split()\n",
    "    if t % 1 == 0:\n",
    "        sol = plot(u,mode='displacement')\n",
    "        plt.colorbar(sol)\n",
    "        # plt.title(f'Displacement at iteration {t}')\n",
    "        # plt.savefig(f'{folder_path}/displacement_{t}.png')\n",
    "        plt.show()\n",
    "        plt.close()\n",
    "        sol2 = plot(sigma[0,0])\n",
    "        plt.colorbar(sol2)\n",
    "        plt.show()\n",
    "    # mesh update\n",
    "    # u0.assign(u)\n",
    "    ALE.move(mesh_init, u)\n",
    "    V = VectorElement(\"P\", mesh_init.ufl_cell(), 1)\n",
    "    Q = TensorElement(\"P\", mesh_init.ufl_cell(), 1)\n",
    "    W = FunctionSpace(mesh_init,V*Q)\n",
    "\n",
    "    u0 = interpolate(u, W.sub(0).collapse())\n",
    "    sigma0 = interpolate(sigma, W.sub(1).collapse())\n",
    "   \n",
    "    bc_in = DirichletBC(W.sub(0), g, bounds, 4)\n",
    "    bc_out = DirichletBC(W.sub(0), Constant((0,0)), bounds, 1)\n",
    "    bcs = [bc_out] #, bc_in]\n"
   ]
  },
  {
   "cell_type": "code",
   "execution_count": null,
   "metadata": {},
   "outputs": [
    {
     "name": "stdout",
     "output_type": "stream",
     "text": [
      "Video creato con successo! Salvato come plots/maxwell_test/video_output.avi\n"
     ]
    }
   ],
   "source": [
    "import cv2\n",
    "import os\n",
    "import re \n",
    "\n",
    "def extract_number(filename):\n",
    "    match = re.search(r'\\d+', filename)\n",
    "    return int(match.group()) if match else -1\n",
    "\n",
    "# Cartella contenente le immagini\n",
    "images_folder = folder_path\n",
    "\n",
    "# Elenco delle immagini nella cartella\n",
    "image_files = [img for img in os.listdir(images_folder) if img.endswith(\".jpg\") or img.endswith(\".png\")]\n",
    "\n",
    "# Ordina le immagini in base al loro nome\n",
    "image_files.sort(key=extract_number)\n",
    "\n",
    "# Verifica che ci siano immagini nella cartella\n",
    "if not image_files:\n",
    "    print(\"Non ci sono immagini nella cartella.\")\n",
    "    exit()\n",
    "\n",
    "# Carica la prima immagine per ottenere le dimensioni del frame\n",
    "first_image_path = os.path.join(images_folder, image_files[0])\n",
    "first_image = cv2.imread(first_image_path)\n",
    "\n",
    "if first_image is None:\n",
    "    print(\"Impossibile caricare l'immagine:\", first_image_path)\n",
    "    exit()\n",
    "\n",
    "frame_height, frame_width, _ = first_image.shape\n",
    "\n",
    "# Crea un oggetto VideoWriter\n",
    "output_video_path = f'{folder_path}/video_output.avi'\n",
    "video = cv2.VideoWriter(output_video_path, cv2.VideoWriter_fourcc(*'XVID'), 1, (frame_width, frame_height))\n",
    "\n",
    "# Itera sulle immagini e scrivile nel video\n",
    "for image_file in image_files:\n",
    "    img_path = os.path.join(images_folder, image_file)\n",
    "    img = cv2.imread(img_path)\n",
    "\n",
    "    if img is None:\n",
    "        print(\"Impossibile caricare l'immagine:\", img_path)\n",
    "        continue\n",
    "\n",
    "    # Verifica che l'immagine abbia le stesse dimensioni del frame\n",
    "    if img.shape[1] != frame_width or img.shape[0] != frame_height:\n",
    "        print(\"Le dimensioni dell'immagine non corrispondono:\", img_path)\n",
    "        continue\n",
    "\n",
    "    video.write(img)\n",
    "\n",
    "# Chiudi il video\n",
    "video.release()\n",
    "\n",
    "print(f\"Video creato con successo! Salvato come {output_video_path}\")"
   ]
  },
  {
   "cell_type": "code",
   "execution_count": null,
   "metadata": {},
   "outputs": [
    {
     "name": "stdout",
     "output_type": "stream",
     "text": [
      "Parametri salvati in plots/maxwell_test/parametri.json\n"
     ]
    }
   ],
   "source": [
    "import json\n",
    "\n",
    "# Definisci i parametri che vuoi salvare\n",
    "if q == None:\n",
    "    parametri = {\n",
    "        \"E\": E,\n",
    "        \"nu\": nu,\n",
    "        \"fy\": fy,\n",
    "        \"m\": m,\n",
    "        \"Cf\": Cf,\n",
    "    }\n",
    "else:\n",
    "    parametri = {\n",
    "        \"E\": E,\n",
    "        \"nu\": nu,\n",
    "        \"q\": q,\n",
    "    }\n",
    "\n",
    "# Nome del file JSON in cui salvare i parametri\n",
    "nome_file = f'{folder_path}/parametri.json'\n",
    "\n",
    "# Salva i parametri in un file JSON\n",
    "with open(nome_file, 'w') as file_json:\n",
    "    json.dump(parametri, file_json, indent=4)\n",
    "\n",
    "print(f\"Parametri salvati in {nome_file}\")\n"
   ]
  }
 ],
 "metadata": {
  "kernelspec": {
   "display_name": "myfenics",
   "language": "python",
   "name": "python3"
  },
  "language_info": {
   "codemirror_mode": {
    "name": "ipython",
    "version": 3
   },
   "file_extension": ".py",
   "mimetype": "text/x-python",
   "name": "python",
   "nbconvert_exporter": "python",
   "pygments_lexer": "ipython3",
   "version": "3.11.3"
  }
 },
 "nbformat": 4,
 "nbformat_minor": 2
}
